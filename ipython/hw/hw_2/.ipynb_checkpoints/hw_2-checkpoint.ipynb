{
 "cells": [
  {
   "cell_type": "markdown",
   "metadata": {},
   "source": [
    "# Introduction to Data Science\n",
    "## Homework 2"
   ]
  },
  {
   "cell_type": "markdown",
   "metadata": {},
   "source": [
    "Student Name: Aman Kumar Mahato\n",
    "\n",
    "Student Netid: akm533\n",
    "***"
   ]
  },
  {
   "cell_type": "markdown",
   "metadata": {},
   "source": [
    "### Preparing a Training Set and Training a Decision Tree\n",
    "This is a hands-on task where we build a predictive model using Decision Trees discussed in class. For this part, we will be using the data in `cell2cell_data.csv`.\n",
    "\n",
    "These historical data consist of 39,859 customers: 19,901 customers that churned (i.e., left the company) and 19,958 that did not churn (see the `\"churndep\"` variable). Here are the data set's 11 possible predictor variables for churning behavior: \n",
    "\n",
    "```\n",
    "Pos.  Var. Name  Var. Description\n",
    "----- ---------- --------------------------------------------------------------\n",
    "1     revenue    Mean monthly revenue in dollars\n",
    "2     outcalls   Mean number of outbound voice calls\n",
    "3     incalls    Mean number of inbound voice calls\n",
    "4     months     Months in Service\n",
    "5     eqpdays    Number of days the customer has had his/her current equipment\n",
    "6     webcap     Handset is web capable\n",
    "7     marryyes   Married (1=Yes; 0=No)\n",
    "8     travel     Has traveled to non-US country (1=Yes; 0=No)\n",
    "9     pcown      Owns a personal computer (1=Yes; 0=No)\n",
    "10    creditcd   Possesses a credit card (1=Yes; 0=No)\n",
    "11    retcalls   Number of calls previously made to retention team\n",
    "```\n",
    "\n",
    "The 12th column, the dependent variable `\"churndep\"`, equals 1 if the customer churned, and 0 otherwise. "
   ]
  },
  {
   "cell_type": "markdown",
   "metadata": {},
   "source": [
    "1\\. Load the data and prepare it for modeling. Note that the features are already processed for you, so the only thing needed here is split the data into training and testing. Use pandas to create two data frames: train_df and test_df, where train_df has 80% of the data chosen uniformly at random without replacement (test_df should have the other 20%). Also, make sure to write your own code to do the splits. You may use any random() function numpy but DO NOT use the data splitting functions from Sklearn."
   ]
  },
  {
   "cell_type": "code",
   "execution_count": 37,
   "metadata": {
    "collapsed": false
   },
   "outputs": [
    {
     "name": "stdout",
     "output_type": "stream",
     "text": [
      "(31887, 12) (7972, 12) (39859, 12)\n"
     ]
    }
   ],
   "source": [
    "import pandas as pd\n",
    "import numpy as np\n",
    "import scipy as sp\n",
    "import matplotlib.pyplot as plt\n",
    "import random as rd\n",
    "#loading data to the data frame\n",
    "data = pd.read_csv('/Users/amanmahato/Desktop/DataScienceCourse/ipython/hw/hw_2/data/Cell2Cell_data.csv', \n",
    "                  names = [\"revenue\", \"outcalls\", \"incalls\", \"months\", \"eqpdays\", \"webcap\", \"marryyes\", \"travel\", \"pcown\", \"creditcd\", \"retcalls\", \"churndep\"])\n",
    "#Creating data frames: train_df=80% of data and test_df=20% of data\n",
    "rand = list(range(len(data)))\n",
    "div= int(len(data)*0.8) #0.8 for 80% of data\n",
    "rd.shuffle(rand)\n",
    "train_df_index=rand[:div]\n",
    "test_df_index=rand[div:]\n",
    "#iloc works on the positions in the index\n",
    "train_df=data.iloc[train_df_index,:]\n",
    "test_df=data.iloc[test_df_index,:]\n",
    "print (train_df.shape, test_df.shape,data.shape)"
   ]
  },
  {
   "cell_type": "markdown",
   "metadata": {},
   "source": [
    "2\\. If we had to, how would we prove to ourselves or a colleague that our data was indeed randomly sampled on X? And by prove, I mean empirically, not just showing this person our code. Don't actually do the work, just describe in your own words a test you could here. Hint: think about this in terms of selection bias and use notes from our 2nd lecture."
   ]
  },
  {
   "cell_type": "markdown",
   "metadata": {},
   "source": [
    "Ans:\n",
    "To Prove that our data was randomly sampled on X, we need to prove that each instance of sample is independent of the instances of the overall population from which the random data were generated. Now from the above logic, the way I have selected and split the data is based on the index value which is nothing but the list of all the numbers starting from 0 upto 39858 and then this list of index is shuffled randomly and then the first 80% of the rows were assigned to the train_df and the remaining 20% to the test_df. Here we can see these index values in the index table are unique and independent of any other index values. Hence, it can be concluded that both the test_df and train_df is randomly selected and are independent. The other way it can be thaught of is runining the above script millions of times and then compare the index in the train_df and test_df and then show that there exist now relationship with the previosu values."
   ]
  },
  {
   "cell_type": "markdown",
   "metadata": {},
   "source": [
    "3\\. Now build and train a decision tree classifier using `DecisionTreeClassifier()` [(manual page)](http://scikit-learn.org/stable/modules/generated/sklearn.tree.DecisionTreeClassifier.html) on train_df to predict the `\"churndep\"` target variable. Make sure to use `criterion='entropy'` when instantiating an instance of `DecisionTreeClassifier()`. For all other settings you should use all of the default options."
   ]
  },
  {
   "cell_type": "code",
   "execution_count": 38,
   "metadata": {
    "collapsed": false
   },
   "outputs": [],
   "source": [
    "from sklearn.metrics import confusion_matrix,roc_auc_score\n",
    "from sklearn.tree import DecisionTreeClassifier\n",
    "#function to build decision tree\n",
    "clf = DecisionTreeClassifier(criterion='entropy')\n",
    "clf = clf.fit(train_df.drop('churndep',1),train_df['churndep'])"
   ]
  },
  {
   "cell_type": "markdown",
   "metadata": {},
   "source": [
    "4\\. Using the resulting model from 2.2, show a bar plot of feature names and their feature importance (hint: check the attributes of the `DecisionTreeClassifier()` object directly in IPython or check the manual!)."
   ]
  },
  {
   "cell_type": "code",
   "execution_count": 39,
   "metadata": {
    "collapsed": false
   },
   "outputs": [
    {
     "data": {
      "text/plain": [
       "<matplotlib.text.Text at 0x11c568e80>"
      ]
     },
     "execution_count": 39,
     "metadata": {},
     "output_type": "execute_result"
    },
    {
     "data": {
      "image/png": "[encoded data removed]",
      "text/plain": [
       "<matplotlib.figure.Figure at 0x11ab68d68>"
      ]
     },
     "metadata": {},
     "output_type": "display_data"
    }
   ],
   "source": [
    "import matplotlib.pyplot as plt\n",
    "%matplotlib inline\n",
    "fig, ax = plt.subplots()\n",
    "#feature_importances_ : array of shape = [n_features]\n",
    "ax.bar(np.arange(11), clf.feature_importances_, color='b')\n",
    "ax.set_xticks(np.arange(len(clf.feature_importances_)))\n",
    "ax.set_xticklabels(train_df.drop('churndep',1).columns.values,rotation=90)\n",
    "plt.title('Feature Importance from Data Frame')\n",
    "ax.set_ylabel('Feature Importance')"
   ]
  },
  {
   "cell_type": "markdown",
   "metadata": {},
   "source": [
    "5\\. Is the relationship between the top 3 most important features (as measured here) negative or positive? If your marketing director asked you to explain the top 3 drivers of churn, how would you interpret the relationship between these 3 features and the churn outcome?  What \"real-life\" connection can you draw between each variable and churn?"
   ]
  },
  {
   "cell_type": "code",
   "execution_count": 40,
   "metadata": {
    "collapsed": false
   },
   "outputs": [
    {
     "name": "stdout",
     "output_type": "stream",
     "text": [
      "-0.0111745727195\n",
      "-0.0382539753695\n",
      "0.112488553705\n"
     ]
    }
   ],
   "source": [
    "# Code/answer here\n",
    "#From the above bar plot, the three most important features are revenue, outcalls and eqpdays. \n",
    "#Looking at the correlation coefficient to find the relationship between these important features and churndep\n",
    "print(np.corrcoef(train_df['revenue'],train_df['churndep'])[1][0])\n",
    "print(np.corrcoef(train_df['outcalls'],train_df['churndep'])[1][0])\n",
    "print(np.corrcoef(train_df['eqpdays'],train_df['churndep'])[1][0])\n"
   ]
  },
  {
   "cell_type": "markdown",
   "metadata": {},
   "source": [
    "From the above result, the correlation coefficient are: \n",
    "revenue and churndep-->negative\n",
    "outcalls and churndep-->negative\n",
    "eqpdays and churndep-->positive\n",
    "This can be interpreted as when the relatioship between revenue and churndep is as when revenue increases, churndep \n",
    "decreases and similar relation goes with outcalls and churndep ie. both the revenue and outcalls are inversely related\n",
    "with churndep but the relationship between eqpdays and churndep is direct which means if eqpdays increases, churndep\n",
    "will increase linearly. Hence, to my marketing director, I will explain that to increase the revenue, less people should churn and more people should make more outcalls.\n"
   ]
  },
  {
   "cell_type": "markdown",
   "metadata": {},
   "source": [
    "6\\. Using the classifier built in 2.2, try predicting `\"churndep\"` on both the train_df and test_df data sets. What is the accuracy on each?"
   ]
  },
  {
   "cell_type": "code",
   "execution_count": 41,
   "metadata": {
    "collapsed": false
   },
   "outputs": [
    {
     "name": "stdout",
     "output_type": "stream",
     "text": [
      "Accuracy on Test Data is:  0.538384345208\n",
      "Accuracy on Training Data is:  0.999843196287\n"
     ]
    }
   ],
   "source": [
    "# Code here\n",
    "#Confusion Matrix is used to describle the performance of classification model here\n",
    "#confusion_matrix(y_true, y_pred, labels=None, sample_weight=None)---Syntax\n",
    "cm_test = confusion_matrix(clf.predict(test_df.drop('churndep',axis=1)),test_df['churndep'])\n",
    "cm_train = confusion_matrix(clf.predict(train_df.drop('churndep',axis=1)),train_df['churndep'])\n",
    "acc_test = (cm_test[0][0]+cm_test[1][1])/float(sum(sum(cm_test)))\n",
    "acc_train = (cm_train[0][0]+cm_train[1][1])/float(sum(sum(cm_train)))\n",
    "print (\"Accuracy on Test Data is: \",acc_test)\n",
    "print (\"Accuracy on Training Data is: \",acc_train)"
   ]
  },
  {
   "cell_type": "markdown",
   "metadata": {},
   "source": [
    "### Part 2 - Finding a Good Decision Tree\n",
    "The default options for your decision tree may not be optimal. We need to analyze whether tuning the parameters can improve the accuracy of the classifier.  For the following options `min_samples_split` and `min_samples_leaf`:"
   ]
  },
  {
   "cell_type": "markdown",
   "metadata": {},
   "source": [
    "1\\. Generate a list of 10 values of each for the parameters mim_samples_split and min_samples_leaf. "
   ]
  },
  {
   "cell_type": "code",
   "execution_count": 42,
   "metadata": {
    "collapsed": false
   },
   "outputs": [
    {
     "name": "stdout",
     "output_type": "stream",
     "text": [
      "[  2 102 202 302 402 502 602 702 802 902] [  1  21  41  61  81 101 121 141 161 181]\n"
     ]
    }
   ],
   "source": [
    "min_samples_split_values = np.arange(2,1000,100)\n",
    "min_samples_leaf_values = np.arange(1,200,20)\n",
    "print (min_samples_split_values,min_samples_leaf_values)"
   ]
  },
  {
   "cell_type": "markdown",
   "metadata": {},
   "source": [
    "2\\. Explain in words your reasoning for choosing the above ranges."
   ]
  },
  {
   "cell_type": "markdown",
   "metadata": {},
   "source": [
    "Ans:\n",
    "I have taken two corner cases here and then equally spaced the interval. The node split value is set at 2 and the default number at which the particular node to be considered as leaf is 1. The upper case was considered in the virtue of fact that there is equal split between the target variables. This leads to tree overfitting but before that tree expands enough to give the good accuracy. If we keep increasing this value, the tree might suffer from underfitting there by reducing the accuracy.\n",
    "In case of leaves, 200 was considered considering the fact that less number will make the entropy close to 0 and the we get the better Decision Tree. "
   ]
  },
  {
   "cell_type": "markdown",
   "metadata": {},
   "source": [
    "3\\. For each combination of values in 3.1 (there should be 100), build a new classifier and check the classifier's accuracy on the test data. Plot the test set accuracy for these options. Use the values of `min_samples_split` as the x-axis and generate a new series (line) for each of `min_samples_leaf`."
   ]
  },
  {
   "cell_type": "code",
   "execution_count": null,
   "metadata": {
    "collapsed": false
   },
   "outputs": [],
   "source": [
    "# creating dictionary of lists\n",
    "from collections import defaultdict\n",
    "from sklearn.metrics import accuracy_score\n",
    "return_results = defaultdict(list)\n",
    "#calculating the accuracy for each tree and storing in the dictionary return_results\n",
    "for leaf_value in min_samples_leaf_values:\n",
    "    for split_value in min_samples_split_values:\n",
    "        clf = DecisionTreeClassifier(criterion='entropy',min_samples_split=split_value, min_samples_leaf=leaf_value)\n",
    "        clf = clf.fit(train_df.drop('churndep',1),train_df['churndep'])\n",
    "        return_results[leaf_value].append(accuracy_score(test_df['churndep'],clf.predict(test_df.drop('churndep',1))))\n",
    "      \n",
    "# plotting the results\n",
    "fig = plt.figure() \n",
    "ax=fig.add_subplot(111)\n",
    "for key,value in results.items():\n",
    "    plt.plot(min_samples_split_values,value, label='Min Leaf Value: {}'.format(key))\n",
    "ax.set_xlabel('Min Sample Split')\n",
    "ax.set_ylabel('Test Set Accuracy')\n",
    "plt.title('Holdout Accuracy')\n",
    "plt.show()"
   ]
  },
  {
   "cell_type": "markdown",
   "metadata": {},
   "source": [
    "4\\. Which configuration returns the best accuracy? What is this accuracy? (Note, if you don't see much variation in the test set accuracy across values of min_samples_split or min_samples_leaf, try redoing the above steps with a different range of values)."
   ]
  },
  {
   "cell_type": "code",
   "execution_count": null,
   "metadata": {
    "collapsed": false
   },
   "outputs": [],
   "source": [
    "# function to find the best accuracy\n",
    "def best_Accuracy(best):\n",
    "    maximum=0\n",
    "    leaf_Max=0\n",
    "    split_Max=0\n",
    "    # finding maximum in each list\n",
    "    for key, val in return_results.items():  \n",
    "        if maximum < max(val):\n",
    "            maximum = max(val)\n",
    "            leaf_Max = key\n",
    "            #Creating the split value again\n",
    "            split_Max = val.index(max(val))*(1000/(10+2))\n",
    "    return maximum,leaf_Max,split_Max\n",
    "best = best_Accuracy(return_results)\n",
    "print (\"Accuracy: \",best[0])\n",
    "print (\"Leaves: \",best[1])\n",
    "print (\"Splits: \",int(best[2]))"
   ]
  },
  {
   "cell_type": "markdown",
   "metadata": {},
   "source": [
    "5. If you were working for a marketing department, how would you use your churn production model in a real business environment? Explain why churn prediction might be good for the business and how one might improve churn by using this model."
   ]
  },
  {
   "cell_type": "markdown",
   "metadata": {},
   "source": [
    "Ans:\n",
    "In a real business environemnt, the objective for any business is to have the greater revenue and churn prediction can help the business know what are the factors which are causing the business loose the customers and reduce the revenue. This model also gives the most important features which has direct effect on the churndep and thus knowing these factors, the business can work on those features which has negative correlation with the churn to reduce the churn. For an instance, in this case, the churndep is directly corelated with eqpdays and thus the business can work on increasing the eqpdays to reduce the churndep and can introduce some incentives to make the people use their current equipment.\n",
    "\n",
    "    "
   ]
  }
 ],
 "metadata": {
  "kernelspec": {
   "display_name": "Python 3",
   "language": "python",
   "name": "python3"
  },
  "language_info": {
   "codemirror_mode": {
    "name": "ipython",
    "version": 3
   },
   "file_extension": ".py",
   "mimetype": "text/x-python",
   "name": "python",
   "nbconvert_exporter": "python",
   "pygments_lexer": "ipython3",
   "version": "3.6.0"
  }
 },
 "nbformat": 4,
 "nbformat_minor": 0
}
